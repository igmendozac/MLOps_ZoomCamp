{
 "cells": [
  {
   "cell_type": "code",
   "execution_count": 5,
   "id": "a7cebe43",
   "metadata": {
    "scrolled": true
   },
   "outputs": [],
   "source": [
    "## Run if it´s necesary to install\n",
    "# !pip install pyarrow"
   ]
  },
  {
   "cell_type": "markdown",
   "id": "0acb1422",
   "metadata": {},
   "source": [
    "## Import packages"
   ]
  },
  {
   "cell_type": "code",
   "execution_count": 1,
   "id": "4602d1fc",
   "metadata": {
    "scrolled": true
   },
   "outputs": [],
   "source": [
    "import pickle\n",
    "import pandas as pd\n",
    "import numpy as np\n",
    "import seaborn as sns\n",
    "import matplotlib.pyplot as plt"
   ]
  },
  {
   "cell_type": "code",
   "execution_count": 2,
   "id": "729ed775",
   "metadata": {
    "scrolled": true
   },
   "outputs": [],
   "source": [
    "from sklearn.feature_extraction import DictVectorizer\n",
    "from sklearn.linear_model import LinearRegression\n",
    "from sklearn.linear_model import Lasso\n",
    "from sklearn.linear_model import Ridge\n",
    "\n",
    "from sklearn.metrics import mean_squared_error"
   ]
  },
  {
   "cell_type": "code",
   "execution_count": 3,
   "id": "fccebca6",
   "metadata": {
    "scrolled": true
   },
   "outputs": [
    {
     "name": "stderr",
     "output_type": "stream",
     "text": [
      "2023/06/21 00:34:24 INFO mlflow.store.db.utils: Creating initial MLflow database tables...\n",
      "2023/06/21 00:34:24 INFO mlflow.store.db.utils: Updating database tables\n",
      "INFO  [alembic.runtime.migration] Context impl SQLiteImpl.\n",
      "INFO  [alembic.runtime.migration] Will assume non-transactional DDL.\n",
      "INFO  [alembic.runtime.migration] Context impl SQLiteImpl.\n",
      "INFO  [alembic.runtime.migration] Will assume non-transactional DDL.\n"
     ]
    },
    {
     "data": {
      "text/plain": [
       "<Experiment: artifact_location='/home/Ivan/MLOps_ZoomCamp/2-Experiment-tracking/notebooks/mlruns/1', creation_time=1687303853945, experiment_id='1', last_update_time=1687303853945, lifecycle_stage='active', name='nyc-taxi-experiment', tags={}>"
      ]
     },
     "execution_count": 3,
     "metadata": {},
     "output_type": "execute_result"
    }
   ],
   "source": [
    "import mlflow\n",
    "\n",
    "mlflow.set_tracking_uri(\"sqlite:///mlflow.db\")\n",
    "mlflow.set_experiment(\"nyc-taxi-experiment\")"
   ]
  },
  {
   "cell_type": "markdown",
   "id": "e660f733",
   "metadata": {},
   "source": [
    "## Develop a funtion to load the data"
   ]
  },
  {
   "cell_type": "code",
   "execution_count": 4,
   "id": "e99d9ec3",
   "metadata": {
    "scrolled": true
   },
   "outputs": [],
   "source": [
    "def read_dataframe(filename):\n",
    "    \n",
    "    df = pd.read_parquet(filename)\n",
    "\n",
    "    df[\"duration\"] = df.tpep_dropoff_datetime - df.tpep_pickup_datetime\n",
    "    df[\"duration\"] = df[\"duration\"].apply(lambda td: td.total_seconds()/60)\n",
    "\n",
    "    df = df[(df.duration >=1) & (df.duration <=60)]\n",
    "    categorical = [\"PULocationID\",\"DOLocationID\"]\n",
    "    df[categorical] = df[categorical].astype(str)\n",
    "    \n",
    "    return df"
   ]
  },
  {
   "cell_type": "markdown",
   "id": "25361338",
   "metadata": {},
   "source": [
    "### loading the data"
   ]
  },
  {
   "cell_type": "code",
   "execution_count": 5,
   "id": "f3a99910",
   "metadata": {
    "scrolled": true
   },
   "outputs": [],
   "source": [
    "# MLOps_ZoomCamp/data/yellow_tripdata_2022-01.parquet\n",
    "df_train = read_dataframe (\"../data/yellow_tripdata_2022-01.parquet\")\n",
    "df_val = read_dataframe(\"../data/yellow_tripdata_2022-02.parquet\")"
   ]
  },
  {
   "cell_type": "code",
   "execution_count": 6,
   "id": "5a4e6c2c",
   "metadata": {
    "scrolled": true
   },
   "outputs": [
    {
     "data": {
      "text/plain": [
       "(2421440, 2918187)"
      ]
     },
     "execution_count": 6,
     "metadata": {},
     "output_type": "execute_result"
    }
   ],
   "source": [
    "len(df_train), len(df_val)"
   ]
  },
  {
   "cell_type": "code",
   "execution_count": 7,
   "id": "7ab08d68",
   "metadata": {
    "scrolled": true
   },
   "outputs": [],
   "source": [
    "df_train[\"PU_DO\"] = df_train[\"PULocationID\"] + \"_\" + df_train[\"DOLocationID\"]\n",
    "df_val[\"PU_DO\"] = df_val[\"PULocationID\"] + \"_\" + df_val[\"DOLocationID\"]"
   ]
  },
  {
   "cell_type": "markdown",
   "id": "13cd177d",
   "metadata": {},
   "source": [
    "## Split the data into trainning and validation data"
   ]
  },
  {
   "cell_type": "code",
   "execution_count": 8,
   "id": "0a2cb2a4",
   "metadata": {
    "scrolled": true
   },
   "outputs": [],
   "source": [
    "categorical = [\"PU_DO\"] #[\"PULocationID\",\"DOLocationID\"]\n",
    "numerical = [\"trip_distance\"]\n",
    "\n",
    "dv = DictVectorizer()\n",
    "\n",
    "train_dicts = df_train[categorical + numerical].to_dict(orient = \"records\")\n",
    "X_train = dv.fit_transform(train_dicts)\n",
    "\n",
    "val_dicts = df_val[categorical + numerical].to_dict(orient = \"records\")\n",
    "X_val = dv.transform(val_dicts)"
   ]
  },
  {
   "cell_type": "markdown",
   "id": "6e9d0b85",
   "metadata": {},
   "source": [
    "### Adjust target Variable\n"
   ]
  },
  {
   "cell_type": "code",
   "execution_count": 9,
   "id": "a6c32568",
   "metadata": {
    "scrolled": true
   },
   "outputs": [],
   "source": [
    "target = \"duration\"\n",
    "y_train = df_train[target].values\n",
    "y_val = df_val[target].values"
   ]
  },
  {
   "cell_type": "markdown",
   "id": "f6cd95f7",
   "metadata": {},
   "source": [
    "## Fitting some models"
   ]
  },
  {
   "cell_type": "markdown",
   "id": "5dd4e400",
   "metadata": {},
   "source": [
    "### Fit a linear model"
   ]
  },
  {
   "cell_type": "code",
   "execution_count": 10,
   "id": "233197cb",
   "metadata": {
    "scrolled": true
   },
   "outputs": [
    {
     "data": {
      "text/plain": [
       "5.414844188813796"
      ]
     },
     "execution_count": 10,
     "metadata": {},
     "output_type": "execute_result"
    }
   ],
   "source": [
    "lr = LinearRegression()\n",
    "lr.fit(X_train,y_train)\n",
    "\n",
    "y_pred = lr.predict(X_val)\n",
    "\n",
    "mean_squared_error(y_val,y_pred, squared=False)"
   ]
  },
  {
   "cell_type": "markdown",
   "id": "77e4cf8e",
   "metadata": {},
   "source": [
    "### Save the best model"
   ]
  },
  {
   "cell_type": "code",
   "execution_count": 11,
   "id": "572916f2",
   "metadata": {
    "scrolled": true
   },
   "outputs": [],
   "source": [
    "with open(\"models/lin_reg.bin\", \"wb\") as f_out:\n",
    "    pickle.dump((dv, lr), f_out)"
   ]
  },
  {
   "cell_type": "markdown",
   "id": "8344295c",
   "metadata": {},
   "source": [
    "### See the actual Y and predicted Y"
   ]
  },
  {
   "cell_type": "code",
   "execution_count": 12,
   "id": "072a17fb",
   "metadata": {
    "scrolled": true
   },
   "outputs": [],
   "source": [
    "# sns.distplot(y_pred, label = \"prediction\")\n",
    "# sns.distplot(y_train, label = \"actual\")\n",
    "\n",
    "# plt.legend();"
   ]
  },
  {
   "cell_type": "markdown",
   "id": "23fdc06b",
   "metadata": {},
   "source": [
    "### Fit a lasso model"
   ]
  },
  {
   "cell_type": "code",
   "execution_count": 13,
   "id": "af463316",
   "metadata": {
    "scrolled": true
   },
   "outputs": [],
   "source": [
    "# la = Lasso(alpha=0.01)\n",
    "# la.fit(X_train,y_train)\n",
    "\n",
    "# y_pred = la.predict(X_val)\n",
    "\n",
    "# mean_squared_error(y_val,y_pred, squared=False)"
   ]
  },
  {
   "cell_type": "markdown",
   "id": "86f1aa8e",
   "metadata": {},
   "source": [
    "### Fit a ridge model - tracking with mlflow"
   ]
  },
  {
   "cell_type": "code",
   "execution_count": 14,
   "id": "3528738c",
   "metadata": {
    "scrolled": true
   },
   "outputs": [],
   "source": [
    "with mlflow.start_run():\n",
    "    mlflow.set_tag(\"developer\", \"Ivan\")\n",
    "    \n",
    "    mlflow.log_param(\"train-data-path\",\"../data/yellow_tripdata_2022-01.parquet\")\n",
    "    mlflow.log_param(\"valid-data-path\",\"../data/yellow_tripdata_2022-02.parquet\")\n",
    "    \n",
    "    \n",
    "    \n",
    "    alpha = 0.1\n",
    "    \n",
    "    mlflow.log_param(\"alpha\", alpha)\n",
    "    \n",
    "    \n",
    "    \n",
    "    lg = Ridge(alpha)\n",
    "    lg.fit(X_train,y_train)\n",
    "\n",
    "    y_pred = lg.predict(X_val)\n",
    "\n",
    "    rmse = mean_squared_error(y_val,y_pred, squared=False)\n",
    "    \n",
    "    mlflow.log_metric(\"rmse\", rmse)"
   ]
  },
  {
   "cell_type": "markdown",
   "id": "f4c7e4b0",
   "metadata": {},
   "source": [
    "# improving the model applying Xgboost Model"
   ]
  },
  {
   "cell_type": "markdown",
   "id": "030845a3",
   "metadata": {},
   "source": [
    "## Hyperparameter Optimizaiton Tracking:"
   ]
  },
  {
   "cell_type": "code",
   "execution_count": 15,
   "id": "f30f6488",
   "metadata": {
    "scrolled": true
   },
   "outputs": [
    {
     "name": "stdout",
     "output_type": "stream",
     "text": [
      "CPU times: user 241 ms, sys: 66 ms, total: 307 ms\n",
      "Wall time: 576 ms\n"
     ]
    }
   ],
   "source": [
    "%%time\n",
    "import xgboost as xgb\n",
    "\n",
    "import xgboost as xgb\n",
    "\n",
    "from hyperopt import fmin, tpe, hp, STATUS_OK, Trials\n",
    "from hyperopt.pyll import scope"
   ]
  },
  {
   "cell_type": "code",
   "execution_count": 16,
   "id": "74274748",
   "metadata": {},
   "outputs": [],
   "source": [
    "train = xgb.DMatrix(X_train, label=y_train)\n",
    "valid = xgb.DMatrix(X_val, label=y_val)"
   ]
  },
  {
   "cell_type": "code",
   "execution_count": 26,
   "id": "73817a62",
   "metadata": {
    "scrolled": true
   },
   "outputs": [],
   "source": [
    "def objective(params):\n",
    "    with mlflow.start_run():\n",
    "        mlflow.set_tag(\"model\", \"xgboost\")\n",
    "        mlflow.log_params(params)\n",
    "        booster = xgb.train(\n",
    "            params=params,\n",
    "            dtrain=train,\n",
    "            num_boost_round=1000,\n",
    "            evals=[(valid, 'validation')],\n",
    "            early_stopping_rounds=50\n",
    "        )\n",
    "        y_pred = booster.predict(valid)\n",
    "        rmse = mean_squared_error(y_val, y_pred, squared=False)\n",
    "        mlflow.log_metric(\"rmse\", rmse)\n",
    "\n",
    "    return {'loss': rmse, 'status': STATUS_OK}"
   ]
  },
  {
   "cell_type": "code",
   "execution_count": 27,
   "id": "924c45d4",
   "metadata": {},
   "outputs": [],
   "source": [
    "search_space = {\n",
    "    'max_depth': scope.int(hp.quniform('max_depth', 4, 100, 1)),\n",
    "    'learning_rate': hp.loguniform('learning_rate', -3, 0),\n",
    "    'reg_alpha': hp.loguniform('reg_alpha', -5, -1),\n",
    "    'reg_lambda': hp.loguniform('reg_lambda', -6, -1),\n",
    "    'min_child_weight': hp.loguniform('min_child_weight', -1, 3),\n",
    "    'objective': 'reg:linear',\n",
    "    'seed': 42\n",
    "}"
   ]
  },
  {
   "cell_type": "code",
   "execution_count": null,
   "id": "da7ac1e0",
   "metadata": {},
   "outputs": [],
   "source": [
    "best_result = fmin(\n",
    "    fn=objective,\n",
    "    space=search_space,\n",
    "    algo=tpe.suggest,\n",
    "    max_evals=50,\n",
    "    trials=Trials()\n",
    ")"
   ]
  },
  {
   "cell_type": "markdown",
   "id": "9b3b5a24",
   "metadata": {},
   "source": [
    "## Autologging:"
   ]
  },
  {
   "cell_type": "markdown",
   "id": "e061f49d",
   "metadata": {},
   "source": [
    "Instead of logging the parameters by \"Hand\" by specifiying the logged parameters and passing them. We may use the Autologging feature in MLflow. There are two ways to use Autologging; First by enabling it globally in the code/Notebook using"
   ]
  },
  {
   "cell_type": "code",
   "execution_count": null,
   "id": "968500fe",
   "metadata": {},
   "outputs": [],
   "source": [
    "mlflow.autolog()"
   ]
  },
  {
   "cell_type": "markdown",
   "id": "8f880e21",
   "metadata": {},
   "source": [
    "or by enabling the framework-specific autologger; ex with XGBoost:"
   ]
  },
  {
   "cell_type": "code",
   "execution_count": null,
   "id": "0ed28df1",
   "metadata": {},
   "outputs": [
    {
     "name": "stderr",
     "output_type": "stream",
     "text": [
      "2023/06/21 00:35:22 WARNING mlflow.utils.autologging_utils: You are using an unsupported version of xgboost. If you encounter errors during autologging, try upgrading / downgrading xgboost to a supported version, or try upgrading MLflow.\n",
      "2023/06/21 00:35:22 INFO mlflow.utils.autologging_utils: Created MLflow autologging run with ID '5d5febc0b3684607b3b76ffa00f9228c', which will track hyperparameters, performance metrics, model artifacts, and lineage information for the current xgboost workflow\n"
     ]
    }
   ],
   "source": [
    "params = {\n",
    "    \"learning_rate\" : 0.09726255724350065,\n",
    "    \"max_depth\": 51,\n",
    "    \"min_child_weight\": 19.788154446519542,\n",
    "    \"objective\": \"reg:linear\",\n",
    "    \"reg_alpha\": 0.0802169697770356,\n",
    "    \"reg_lambda\": 0.003109431432408728,\n",
    "    \"seed\": 42\n",
    "}\n",
    "\n",
    "mlflow.xgboost.autolog()\n",
    "\n",
    "booster = xgb.train(\n",
    "params=params,\n",
    "dtrain=train,\n",
    "num_boost_round=1000,\n",
    "evals=[(valid, 'validation')],\n",
    "early_stopping_rounds=50)"
   ]
  },
  {
   "cell_type": "code",
   "execution_count": null,
   "id": "9b2c7ec8",
   "metadata": {},
   "outputs": [],
   "source": []
  }
 ],
 "metadata": {
  "kernelspec": {
   "display_name": "Python 3 (ipykernel)",
   "language": "python",
   "name": "python3"
  },
  "language_info": {
   "codemirror_mode": {
    "name": "ipython",
    "version": 3
   },
   "file_extension": ".py",
   "mimetype": "text/x-python",
   "name": "python",
   "nbconvert_exporter": "python",
   "pygments_lexer": "ipython3",
   "version": "3.9.12"
  }
 },
 "nbformat": 4,
 "nbformat_minor": 5
}

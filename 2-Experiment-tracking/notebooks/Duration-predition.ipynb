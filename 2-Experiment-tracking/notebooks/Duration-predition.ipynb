{
 "cells": [
  {
   "cell_type": "code",
   "execution_count": 24,
   "id": "a7cebe43",
   "metadata": {
    "scrolled": true
   },
   "outputs": [],
   "source": [
    "## Run if it´s necesary to install\n",
    "# !pip install pyarrow"
   ]
  },
  {
   "cell_type": "markdown",
   "id": "0acb1422",
   "metadata": {},
   "source": [
    "## Import packages"
   ]
  },
  {
   "cell_type": "code",
   "execution_count": 25,
   "id": "4602d1fc",
   "metadata": {
    "scrolled": true
   },
   "outputs": [],
   "source": [
    "import pickle\n",
    "import pandas as pd\n",
    "import numpy as np\n",
    "import seaborn as sns\n",
    "import matplotlib.pyplot as plt"
   ]
  },
  {
   "cell_type": "code",
   "execution_count": 26,
   "id": "729ed775",
   "metadata": {
    "scrolled": true
   },
   "outputs": [],
   "source": [
    "from sklearn.feature_extraction import DictVectorizer\n",
    "from sklearn.linear_model import LinearRegression\n",
    "from sklearn.linear_model import Lasso\n",
    "from sklearn.linear_model import Ridge\n",
    "\n",
    "from sklearn.metrics import mean_squared_error"
   ]
  },
  {
   "cell_type": "code",
   "execution_count": 27,
   "id": "fccebca6",
   "metadata": {
    "scrolled": true
   },
   "outputs": [
    {
     "data": {
      "text/plain": [
       "<Experiment: artifact_location='/home/Ivan/MLOps_ZoomCamp/2-Experiment-tracking/notebooks/mlruns/1', creation_time=1687303853945, experiment_id='1', last_update_time=1687303853945, lifecycle_stage='active', name='nyc-taxi-experiment', tags={}>"
      ]
     },
     "execution_count": 27,
     "metadata": {},
     "output_type": "execute_result"
    }
   ],
   "source": [
    "import mlflow\n",
    "\n",
    "mlflow.set_tracking_uri(\"sqlite:///mlflow.db\")\n",
    "mlflow.set_experiment(\"nyc-taxi-experiment\")"
   ]
  },
  {
   "cell_type": "markdown",
   "id": "e660f733",
   "metadata": {},
   "source": [
    "## Develop a funtion to load the data"
   ]
  },
  {
   "cell_type": "code",
   "execution_count": 28,
   "id": "e99d9ec3",
   "metadata": {
    "scrolled": true
   },
   "outputs": [],
   "source": [
    "def read_dataframe(filename):\n",
    "    \n",
    "    df = pd.read_parquet(filename)\n",
    "\n",
    "    df[\"duration\"] = df.tpep_dropoff_datetime - df.tpep_pickup_datetime\n",
    "    df[\"duration\"] = df[\"duration\"].apply(lambda td: td.total_seconds()/60)\n",
    "\n",
    "    df = df[(df.duration >=1) & (df.duration <=60)]\n",
    "    categorical = [\"PULocationID\",\"DOLocationID\"]\n",
    "    df[categorical] = df[categorical].astype(str)\n",
    "    \n",
    "    return df"
   ]
  },
  {
   "cell_type": "markdown",
   "id": "25361338",
   "metadata": {},
   "source": [
    "### loading the data"
   ]
  },
  {
   "cell_type": "code",
   "execution_count": null,
   "id": "f3a99910",
   "metadata": {
    "scrolled": true
   },
   "outputs": [],
   "source": [
    "# MLOps_ZoomCamp/data/yellow_tripdata_2022-01.parquet\n",
    "df_train = read_dataframe (\"../data/yellow_tripdata_2022-01.parquet\")\n",
    "df_val = read_dataframe(\"../data/yellow_tripdata_2022-02.parquet\")"
   ]
  },
  {
   "cell_type": "code",
   "execution_count": null,
   "id": "5a4e6c2c",
   "metadata": {
    "scrolled": true
   },
   "outputs": [],
   "source": [
    "len(df_train), len(df_val)"
   ]
  },
  {
   "cell_type": "code",
   "execution_count": null,
   "id": "7ab08d68",
   "metadata": {
    "scrolled": true
   },
   "outputs": [],
   "source": [
    "df_train[\"PU_DO\"] = df_train[\"PULocationID\"] + \"_\" + df_train[\"DOLocationID\"]\n",
    "df_val[\"PU_DO\"] = df_val[\"PULocationID\"] + \"_\" + df_val[\"DOLocationID\"]"
   ]
  },
  {
   "cell_type": "markdown",
   "id": "13cd177d",
   "metadata": {},
   "source": [
    "## Split the data into trainning and validation data"
   ]
  },
  {
   "cell_type": "code",
   "execution_count": null,
   "id": "0a2cb2a4",
   "metadata": {
    "scrolled": true
   },
   "outputs": [],
   "source": [
    "categorical = [\"PU_DO\"] #[\"PULocationID\",\"DOLocationID\"]\n",
    "numerical = [\"trip_distance\"]\n",
    "\n",
    "dv = DictVectorizer()\n",
    "\n",
    "train_dicts = df_train[categorical + numerical].to_dict(orient = \"records\")\n",
    "X_train = dv.fit_transform(train_dicts)\n",
    "\n",
    "val_dicts = df_val[categorical + numerical].to_dict(orient = \"records\")\n",
    "X_val = dv.transform(val_dicts)"
   ]
  },
  {
   "cell_type": "markdown",
   "id": "6e9d0b85",
   "metadata": {},
   "source": [
    "### Adjust target Variable\n"
   ]
  },
  {
   "cell_type": "code",
   "execution_count": null,
   "id": "a6c32568",
   "metadata": {
    "scrolled": true
   },
   "outputs": [],
   "source": [
    "target = \"duration\"\n",
    "y_train = df_train[target].values\n",
    "y_val = df_val[target].values"
   ]
  },
  {
   "cell_type": "markdown",
   "id": "f6cd95f7",
   "metadata": {},
   "source": [
    "## Fitting some models"
   ]
  },
  {
   "cell_type": "markdown",
   "id": "5dd4e400",
   "metadata": {},
   "source": [
    "### Fit a linear model"
   ]
  },
  {
   "cell_type": "code",
   "execution_count": null,
   "id": "233197cb",
   "metadata": {
    "scrolled": true
   },
   "outputs": [],
   "source": [
    "lr = LinearRegression()\n",
    "lr.fit(X_train,y_train)\n",
    "\n",
    "y_pred = lr.predict(X_val)\n",
    "\n",
    "mean_squared_error(y_val,y_pred, squared=False)"
   ]
  },
  {
   "cell_type": "markdown",
   "id": "77e4cf8e",
   "metadata": {},
   "source": [
    "### Save the best model"
   ]
  },
  {
   "cell_type": "code",
   "execution_count": null,
   "id": "572916f2",
   "metadata": {
    "scrolled": true
   },
   "outputs": [],
   "source": [
    "with open(\"models/lin_reg.bin\", \"wb\") as f_out:\n",
    "    pickle.dump((dv, lr), f_out)"
   ]
  },
  {
   "cell_type": "markdown",
   "id": "8344295c",
   "metadata": {},
   "source": [
    "### See the actual Y and predicted Y"
   ]
  },
  {
   "cell_type": "code",
   "execution_count": null,
   "id": "072a17fb",
   "metadata": {
    "scrolled": true
   },
   "outputs": [],
   "source": [
    "# sns.distplot(y_pred, label = \"prediction\")\n",
    "# sns.distplot(y_train, label = \"actual\")\n",
    "\n",
    "# plt.legend();"
   ]
  },
  {
   "cell_type": "markdown",
   "id": "23fdc06b",
   "metadata": {},
   "source": [
    "### Fit a lasso model"
   ]
  },
  {
   "cell_type": "code",
   "execution_count": null,
   "id": "af463316",
   "metadata": {
    "scrolled": true
   },
   "outputs": [],
   "source": [
    "# la = Lasso(alpha=0.01)\n",
    "# la.fit(X_train,y_train)\n",
    "\n",
    "# y_pred = la.predict(X_val)\n",
    "\n",
    "# mean_squared_error(y_val,y_pred, squared=False)"
   ]
  },
  {
   "cell_type": "markdown",
   "id": "86f1aa8e",
   "metadata": {},
   "source": [
    "### Fit a ridge model - tracking with mlflow"
   ]
  },
  {
   "cell_type": "code",
   "execution_count": null,
   "id": "3528738c",
   "metadata": {
    "scrolled": true
   },
   "outputs": [],
   "source": [
    "with mlflow.start_run():\n",
    "    mlflow.set_tag(\"developer\", \"Ivan\")\n",
    "    \n",
    "    mlflow.log_param(\"train-data-path\",\"../data/yellow_tripdata_2022-01.parquet\")\n",
    "    mlflow.log_param(\"valid-data-path\",\"../data/yellow_tripdata_2022-02.parquet\")\n",
    "    \n",
    "    \n",
    "    \n",
    "    alpha = 0.1\n",
    "    \n",
    "    mlflow.log_param(\"alpha\", alpha)\n",
    "    \n",
    "    \n",
    "    \n",
    "    lg = Ridge(alpha)\n",
    "    lg.fit(X_train,y_train)\n",
    "\n",
    "    y_pred = lg.predict(X_val)\n",
    "\n",
    "    rmse = mean_squared_error(y_val,y_pred, squared=False)\n",
    "    \n",
    "    mlflow.log_metric(\"rmse\", rmse)\n",
    "    \n",
    "    mlflow.log_artifact(local_path = \"models/lin_reg.bin\", artifact_path=\"models_pickle\")"
   ]
  },
  {
   "cell_type": "markdown",
   "id": "334e0b22",
   "metadata": {},
   "source": [
    "# improving the model applying Xgboost Model"
   ]
  },
  {
   "cell_type": "markdown",
   "id": "d6e906b8",
   "metadata": {},
   "source": [
    "## Hyperparameter Optimizaiton Tracking:"
   ]
  },
  {
   "cell_type": "code",
   "execution_count": null,
   "id": "3037e8c0",
   "metadata": {
    "scrolled": true
   },
   "outputs": [],
   "source": [
    "%%time\n",
    "import xgboost as xgb\n",
    "\n",
    "import xgboost as xgb\n",
    "\n",
    "from hyperopt import fmin, tpe, hp, STATUS_OK, Trials\n",
    "from hyperopt.pyll import scope"
   ]
  },
  {
   "cell_type": "code",
   "execution_count": null,
   "id": "f33ef0d3",
   "metadata": {},
   "outputs": [],
   "source": [
    "train = xgb.DMatrix(X_train, label=y_train)\n",
    "valid = xgb.DMatrix(X_val, label=y_val)"
   ]
  },
  {
   "cell_type": "code",
   "execution_count": 26,
   "id": "9b89288f",
   "metadata": {
    "scrolled": true
   },
   "outputs": [],
   "source": [
    "def objective(params):\n",
    "    with mlflow.start_run():\n",
    "        mlflow.set_tag(\"model\", \"xgboost\")\n",
    "        mlflow.log_params(params)\n",
    "        booster = xgb.train(\n",
    "            params=params,\n",
    "            dtrain=train,\n",
    "            num_boost_round=1000,\n",
    "            evals=[(valid, 'validation')],\n",
    "            early_stopping_rounds=50\n",
    "        )\n",
    "        y_pred = booster.predict(valid)\n",
    "        rmse = mean_squared_error(y_val, y_pred, squared=False)\n",
    "        mlflow.log_metric(\"rmse\", rmse)\n",
    "\n",
    "    return {'loss': rmse, 'status': STATUS_OK}\n",
    "\n"
   ]
  },
  {
   "cell_type": "code",
   "execution_count": 27,
   "id": "a7826adf",
   "metadata": {},
   "outputs": [],
   "source": [
    "search_space = {\n",
    "    'max_depth': scope.int(hp.quniform('max_depth', 4, 100, 1)),\n",
    "    'learning_rate': hp.loguniform('learning_rate', -3, 0),\n",
    "    'reg_alpha': hp.loguniform('reg_alpha', -5, -1),\n",
    "    'reg_lambda': hp.loguniform('reg_lambda', -6, -1),\n",
    "    'min_child_weight': hp.loguniform('min_child_weight', -1, 3),\n",
    "    'objective': 'reg:linear',\n",
    "    'seed': 42\n",
    "}"
   ]
  },
  {
   "cell_type": "code",
   "execution_count": null,
   "id": "930b418f",
   "metadata": {},
   "outputs": [],
   "source": [
    "best_result = fmin(\n",
    "    fn=objective,\n",
    "    space=search_space,\n",
    "    algo=tpe.suggest,\n",
    "    max_evals=50,\n",
    "    trials=Trials()\n",
    ")"
   ]
  },
  {
   "cell_type": "markdown",
   "id": "e0b0a083",
   "metadata": {},
   "source": [
    "## Autologging:"
   ]
  },
  {
   "cell_type": "markdown",
   "id": "b5bfc681",
   "metadata": {},
   "source": [
    "Instead of logging the parameters by \"Hand\" by specifiying the logged parameters and passing them. We may use the Autologging feature in MLflow. There are two ways to use Autologging; First by enabling it globally in the code/Notebook using"
   ]
  },
  {
   "cell_type": "code",
   "execution_count": 18,
   "id": "c2139c11",
   "metadata": {},
   "outputs": [
    {
     "name": "stderr",
     "output_type": "stream",
     "text": [
      "2023/06/21 00:47:18 WARNING mlflow.utils.autologging_utils: You are using an unsupported version of xgboost. If you encounter errors during autologging, try upgrading / downgrading xgboost to a supported version, or try upgrading MLflow.\n",
      "2023/06/21 00:47:18 INFO mlflow.tracking.fluent: Autologging successfully enabled for xgboost.\n",
      "2023/06/21 00:47:19 INFO mlflow.tracking.fluent: Autologging successfully enabled for sklearn.\n",
      "2023/06/21 00:47:20 INFO mlflow.tracking.fluent: Autologging successfully enabled for statsmodels.\n"
     ]
    }
   ],
   "source": [
    "mlflow.autolog()"
   ]
  },
  {
   "cell_type": "markdown",
   "id": "d90bdc06",
   "metadata": {},
   "source": [
    "or by enabling the framework-specific autologger; ex with XGBoost:"
   ]
  },
  {
   "cell_type": "code",
   "execution_count": null,
   "id": "8242a77a",
   "metadata": {},
   "outputs": [
    {
     "name": "stderr",
     "output_type": "stream",
     "text": [
      "2023/06/21 00:47:20 INFO mlflow.utils.autologging_utils: Created MLflow autologging run with ID '84c726ee884342eab3fff8605afffbd7', which will track hyperparameters, performance metrics, model artifacts, and lineage information for the current xgboost workflow\n"
     ]
    }
   ],
   "source": [
    "params = {\n",
    "    \"learning_rate\" : 0.09726255724350065,\n",
    "    \"max_depth\": 51,\n",
    "    \"min_child_weight\": 19.788154446519542,\n",
    "    \"objective\": \"reg:linear\",\n",
    "    \"reg_alpha\": 0.0802169697770356,\n",
    "    \"reg_lambda\": 0.003109431432408728,\n",
    "    \"seed\": 42\n",
    "}\n",
    "\n",
    "# mlflow.xgboost.autolog()\n",
    "\n",
    "booster = xgb.train(\n",
    "params=params,\n",
    "dtrain=train,\n",
    "num_boost_round=10,\n",
    "evals=[(valid, 'validation')],\n",
    "early_stopping_rounds=50)"
   ]
  },
  {
   "cell_type": "markdown",
   "id": "d7921d6d",
   "metadata": {},
   "source": [
    "Both must be done before running the experiments.\n",
    "\n",
    "The autologger then not only stores the model parameters for ease of use, it also stores other files inside the model (can be specified) folder inside our experiment artifact folder, these files include:\n",
    "\n",
    "conda.yaml and requirements.txt: Files which define the current envrionment for use with either conda or pip respectively MLmodel an internal MLflow file for organization Other framework-specific files such as the model itself"
   ]
  },
  {
   "cell_type": "markdown",
   "id": "f4c957c1",
   "metadata": {},
   "source": [
    "## Saving Models:\n"
   ]
  },
  {
   "cell_type": "code",
   "execution_count": null,
   "id": "4a05350e",
   "metadata": {},
   "outputs": [],
   "source": [
    "with mlflow.start_run():\n",
    "    \n",
    "    best_params = {\n",
    "    \"learning_rate\" : 0.09726255724350065,\n",
    "    \"max_depth\": 51,\n",
    "    \"min_child_weight\": 19.788154446519542,\n",
    "    \"objective\": \"reg:linear\",\n",
    "    \"reg_alpha\": 0.0802169697770356,\n",
    "    \"reg_lambda\": 0.003109431432408728,\n",
    "    \"seed\": 42\n",
    "    }\n",
    "    \n",
    "    mlflow.log_params(best_params)\n",
    "\n",
    "    # mlflow.xgboost.autolog()\n",
    "\n",
    "    booster = xgb.train(\n",
    "    params=params,\n",
    "    dtrain=train,\n",
    "    num_boost_round=10,\n",
    "    evals=[(valid, 'validation')],\n",
    "    early_stopping_rounds=50)\n",
    "    \n",
    "    y_pred = booster.predict(valid)\n",
    "    rmse = mean_squared_error(y_val,y_pred, squared=False)\n",
    "    mlflow.log_metric(\"rmse\",rmse)\n",
    "    \n",
    "    mlflow.xgboost.log_model(booster, artifact_path=\"models_mlflow\")"
   ]
  },
  {
   "cell_type": "code",
   "execution_count": null,
   "id": "3fd72ef2",
   "metadata": {},
   "outputs": [],
   "source": []
  }
 ],
 "metadata": {
  "kernelspec": {
   "display_name": "Python 3 (ipykernel)",
   "language": "python",
   "name": "python3"
  },
  "language_info": {
   "codemirror_mode": {
    "name": "ipython",
    "version": 3
   },
   "file_extension": ".py",
   "mimetype": "text/x-python",
   "name": "python",
   "nbconvert_exporter": "python",
   "pygments_lexer": "ipython3",
   "version": "3.9.12"
  }
 },
 "nbformat": 4,
 "nbformat_minor": 5
}

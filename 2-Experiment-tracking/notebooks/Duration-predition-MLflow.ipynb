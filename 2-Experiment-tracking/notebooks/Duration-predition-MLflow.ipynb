{
 "cells": [
  {
   "cell_type": "code",
   "execution_count": 24,
   "id": "a7cebe43",
   "metadata": {
    "scrolled": true
   },
   "outputs": [],
   "source": [
    "## Run if it´s necesary to install\n",
    "# !pip install pyarrow"
   ]
  },
  {
   "cell_type": "markdown",
   "id": "0acb1422",
   "metadata": {},
   "source": [
    "## Import packages"
   ]
  },
  {
   "cell_type": "code",
   "execution_count": 25,
   "id": "4602d1fc",
   "metadata": {
    "scrolled": true
   },
   "outputs": [],
   "source": [
    "import pickle\n",
    "import pandas as pd\n",
    "import numpy as np\n",
    "import seaborn as sns\n",
    "import matplotlib.pyplot as plt"
   ]
  },
  {
   "cell_type": "code",
   "execution_count": 26,
   "id": "729ed775",
   "metadata": {
    "scrolled": true
   },
   "outputs": [],
   "source": [
    "from sklearn.feature_extraction import DictVectorizer\n",
    "from sklearn.linear_model import LinearRegression\n",
    "from sklearn.linear_model import Lasso\n",
    "from sklearn.linear_model import Ridge\n",
    "\n",
    "from sklearn.metrics import mean_squared_error"
   ]
  },
  {
   "cell_type": "code",
   "execution_count": 27,
   "id": "fccebca6",
   "metadata": {
    "scrolled": true
   },
   "outputs": [
    {
     "data": {
      "text/plain": [
       "<Experiment: artifact_location='/home/Ivan/MLOps_ZoomCamp/2-Experiment-tracking/notebooks/mlruns/1', creation_time=1687303853945, experiment_id='1', last_update_time=1687303853945, lifecycle_stage='active', name='nyc-taxi-experiment', tags={}>"
      ]
     },
     "execution_count": 27,
     "metadata": {},
     "output_type": "execute_result"
    }
   ],
   "source": [
    "import mlflow\n",
    "\n",
    "mlflow.set_tracking_uri(\"sqlite:///mlflow.db\")\n",
    "mlflow.set_experiment(\"nyc-taxi-experiment\")"
   ]
  },
  {
   "cell_type": "markdown",
   "id": "e660f733",
   "metadata": {},
   "source": [
    "## Develop a funtion to load the data"
   ]
  },
  {
   "cell_type": "code",
   "execution_count": 28,
   "id": "e99d9ec3",
   "metadata": {
    "scrolled": true
   },
   "outputs": [],
   "source": [
    "def read_dataframe(filename):\n",
    "    \n",
    "    df = pd.read_parquet(filename)\n",
    "\n",
    "    df[\"duration\"] = df.tpep_dropoff_datetime - df.tpep_pickup_datetime\n",
    "    df[\"duration\"] = df[\"duration\"].apply(lambda td: td.total_seconds()/60)\n",
    "\n",
    "    df = df[(df.duration >=1) & (df.duration <=60)]\n",
    "    categorical = [\"PULocationID\",\"DOLocationID\"]\n",
    "    df[categorical] = df[categorical].astype(str)\n",
    "    \n",
    "    return df"
   ]
  },
  {
   "cell_type": "markdown",
   "id": "25361338",
   "metadata": {},
   "source": [
    "### loading the data"
   ]
  },
  {
   "cell_type": "code",
   "execution_count": 29,
   "id": "f3a99910",
   "metadata": {
    "scrolled": true
   },
   "outputs": [],
   "source": [
    "# MLOps_ZoomCamp/data/yellow_tripdata_2022-01.parquet\n",
    "df_train = read_dataframe (\"../data/yellow_tripdata_2022-01.parquet\")\n",
    "df_val = read_dataframe(\"../data/yellow_tripdata_2022-02.parquet\")"
   ]
  },
  {
   "cell_type": "code",
   "execution_count": 30,
   "id": "5a4e6c2c",
   "metadata": {
    "scrolled": true
   },
   "outputs": [
    {
     "data": {
      "text/plain": [
       "(2421440, 2918187)"
      ]
     },
     "execution_count": 30,
     "metadata": {},
     "output_type": "execute_result"
    }
   ],
   "source": [
    "len(df_train), len(df_val)"
   ]
  },
  {
   "cell_type": "code",
   "execution_count": 31,
   "id": "7ab08d68",
   "metadata": {
    "scrolled": true
   },
   "outputs": [],
   "source": [
    "df_train[\"PU_DO\"] = df_train[\"PULocationID\"] + \"_\" + df_train[\"DOLocationID\"]\n",
    "df_val[\"PU_DO\"] = df_val[\"PULocationID\"] + \"_\" + df_val[\"DOLocationID\"]"
   ]
  },
  {
   "cell_type": "markdown",
   "id": "13cd177d",
   "metadata": {},
   "source": [
    "## Split the data into trainning and validation data"
   ]
  },
  {
   "cell_type": "code",
   "execution_count": 32,
   "id": "0a2cb2a4",
   "metadata": {
    "scrolled": true
   },
   "outputs": [],
   "source": [
    "categorical = [\"PU_DO\"] #[\"PULocationID\",\"DOLocationID\"]\n",
    "numerical = [\"trip_distance\"]\n",
    "\n",
    "dv = DictVectorizer()\n",
    "\n",
    "train_dicts = df_train[categorical + numerical].to_dict(orient = \"records\")\n",
    "X_train = dv.fit_transform(train_dicts)\n",
    "\n",
    "val_dicts = df_val[categorical + numerical].to_dict(orient = \"records\")\n",
    "X_val = dv.transform(val_dicts)"
   ]
  },
  {
   "cell_type": "markdown",
   "id": "6e9d0b85",
   "metadata": {},
   "source": [
    "### Adjust target Variable\n"
   ]
  },
  {
   "cell_type": "code",
   "execution_count": 33,
   "id": "a6c32568",
   "metadata": {
    "scrolled": true
   },
   "outputs": [],
   "source": [
    "target = \"duration\"\n",
    "y_train = df_train[target].values\n",
    "y_val = df_val[target].values"
   ]
  },
  {
   "cell_type": "markdown",
   "id": "f6cd95f7",
   "metadata": {},
   "source": [
    "## Fitting some models"
   ]
  },
  {
   "cell_type": "markdown",
   "id": "5dd4e400",
   "metadata": {},
   "source": [
    "### Fit a linear model"
   ]
  },
  {
   "cell_type": "code",
   "execution_count": 34,
   "id": "233197cb",
   "metadata": {
    "scrolled": true
   },
   "outputs": [
    {
     "data": {
      "text/plain": [
       "5.414844188813796"
      ]
     },
     "execution_count": 34,
     "metadata": {},
     "output_type": "execute_result"
    }
   ],
   "source": [
    "lr = LinearRegression()\n",
    "lr.fit(X_train,y_train)\n",
    "\n",
    "y_pred = lr.predict(X_val)\n",
    "\n",
    "mean_squared_error(y_val,y_pred, squared=False)"
   ]
  },
  {
   "cell_type": "markdown",
   "id": "77e4cf8e",
   "metadata": {},
   "source": [
    "### Save the best model"
   ]
  },
  {
   "cell_type": "code",
   "execution_count": 35,
   "id": "572916f2",
   "metadata": {
    "scrolled": true
   },
   "outputs": [],
   "source": [
    "with open(\"models/lin_reg.bin\", \"wb\") as f_out:\n",
    "    pickle.dump((dv, lr), f_out)"
   ]
  },
  {
   "cell_type": "markdown",
   "id": "8344295c",
   "metadata": {},
   "source": [
    "### See the actual Y and predicted Y"
   ]
  },
  {
   "cell_type": "code",
   "execution_count": 36,
   "id": "072a17fb",
   "metadata": {
    "scrolled": true
   },
   "outputs": [],
   "source": [
    "# sns.distplot(y_pred, label = \"prediction\")\n",
    "# sns.distplot(y_train, label = \"actual\")\n",
    "\n",
    "# plt.legend();"
   ]
  },
  {
   "cell_type": "markdown",
   "id": "23fdc06b",
   "metadata": {},
   "source": [
    "### Fit a lasso model"
   ]
  },
  {
   "cell_type": "code",
   "execution_count": 37,
   "id": "af463316",
   "metadata": {
    "scrolled": true
   },
   "outputs": [],
   "source": [
    "# la = Lasso(alpha=0.01)\n",
    "# la.fit(X_train,y_train)\n",
    "\n",
    "# y_pred = la.predict(X_val)\n",
    "\n",
    "# mean_squared_error(y_val,y_pred, squared=False)"
   ]
  },
  {
   "cell_type": "markdown",
   "id": "86f1aa8e",
   "metadata": {},
   "source": [
    "### Fit a ridge model - tracking with mlflow"
   ]
  },
  {
   "cell_type": "code",
   "execution_count": 38,
   "id": "3528738c",
   "metadata": {
    "scrolled": true
   },
   "outputs": [],
   "source": [
    "with mlflow.start_run():\n",
    "    mlflow.set_tag(\"developer\", \"Ivan\")\n",
    "    \n",
    "    mlflow.log_param(\"train-data-path\",\"../data/yellow_tripdata_2022-01.parquet\")\n",
    "    mlflow.log_param(\"valid-data-path\",\"../data/yellow_tripdata_2022-02.parquet\")\n",
    "    \n",
    "    \n",
    "    \n",
    "    alpha = 0.1\n",
    "    \n",
    "    mlflow.log_param(\"alpha\", alpha)\n",
    "    \n",
    "    \n",
    "    \n",
    "    lg = Ridge(alpha)\n",
    "    lg.fit(X_train,y_train)\n",
    "\n",
    "    y_pred = lg.predict(X_val)\n",
    "\n",
    "    rmse = mean_squared_error(y_val,y_pred, squared=False)\n",
    "    \n",
    "    mlflow.log_metric(\"rmse\", rmse)\n",
    "    \n",
    "    mlflow.log_artifact(local_path = \"models/lin_reg.bin\", artifact_path=\"models_pickle\")"
   ]
  },
  {
   "cell_type": "markdown",
   "id": "ae802c7e",
   "metadata": {},
   "source": [
    "# improving the model applying Xgboost Model"
   ]
  },
  {
   "cell_type": "markdown",
   "id": "e1963a3d",
   "metadata": {},
   "source": [
    "## Hyperparameter Optimizaiton Tracking:"
   ]
  },
  {
   "cell_type": "code",
   "execution_count": 39,
   "id": "249f575e",
   "metadata": {
    "scrolled": true
   },
   "outputs": [
    {
     "name": "stdout",
     "output_type": "stream",
     "text": [
      "CPU times: user 271 ms, sys: 39.5 ms, total: 310 ms\n",
      "Wall time: 530 ms\n"
     ]
    }
   ],
   "source": [
    "%%time\n",
    "import xgboost as xgb\n",
    "\n",
    "import xgboost as xgb\n",
    "\n",
    "from hyperopt import fmin, tpe, hp, STATUS_OK, Trials\n",
    "from hyperopt.pyll import scope"
   ]
  },
  {
   "cell_type": "code",
   "execution_count": 40,
   "id": "2c65f1b3",
   "metadata": {},
   "outputs": [],
   "source": [
    "train = xgb.DMatrix(X_train, label=y_train)\n",
    "valid = xgb.DMatrix(X_val, label=y_val)"
   ]
  },
  {
   "cell_type": "code",
   "execution_count": 26,
   "id": "05882da8",
   "metadata": {
    "scrolled": true
   },
   "outputs": [],
   "source": [
    "def objective(params):\n",
    "    with mlflow.start_run():\n",
    "        mlflow.set_tag(\"model\", \"xgboost\")\n",
    "        mlflow.log_params(params)\n",
    "        booster = xgb.train(\n",
    "            params=params,\n",
    "            dtrain=train,\n",
    "            num_boost_round=1000,\n",
    "            evals=[(valid, 'validation')],\n",
    "            early_stopping_rounds=50\n",
    "        )\n",
    "        y_pred = booster.predict(valid)\n",
    "        rmse = mean_squared_error(y_val, y_pred, squared=False)\n",
    "        mlflow.log_metric(\"rmse\", rmse)\n",
    "\n",
    "    return {'loss': rmse, 'status': STATUS_OK}\n",
    "\n"
   ]
  },
  {
   "cell_type": "code",
   "execution_count": 27,
   "id": "f09010e2",
   "metadata": {},
   "outputs": [],
   "source": [
    "search_space = {\n",
    "    'max_depth': scope.int(hp.quniform('max_depth', 4, 100, 1)),\n",
    "    'learning_rate': hp.loguniform('learning_rate', -3, 0),\n",
    "    'reg_alpha': hp.loguniform('reg_alpha', -5, -1),\n",
    "    'reg_lambda': hp.loguniform('reg_lambda', -6, -1),\n",
    "    'min_child_weight': hp.loguniform('min_child_weight', -1, 3),\n",
    "    'objective': 'reg:linear',\n",
    "    'seed': 42\n",
    "}"
   ]
  },
  {
   "cell_type": "code",
   "execution_count": null,
   "id": "1d658bef",
   "metadata": {},
   "outputs": [],
   "source": [
    "best_result = fmin(\n",
    "    fn=objective,\n",
    "    space=search_space,\n",
    "    algo=tpe.suggest,\n",
    "    max_evals=50,\n",
    "    trials=Trials()\n",
    ")"
   ]
  },
  {
   "cell_type": "markdown",
   "id": "8f302f33",
   "metadata": {},
   "source": [
    "## Autologging:"
   ]
  },
  {
   "cell_type": "markdown",
   "id": "41e1c3a0",
   "metadata": {},
   "source": [
    "Instead of logging the parameters by \"Hand\" by specifiying the logged parameters and passing them. We may use the Autologging feature in MLflow. There are two ways to use Autologging; First by enabling it globally in the code/Notebook using"
   ]
  },
  {
   "cell_type": "code",
   "execution_count": 18,
   "id": "5b929071",
   "metadata": {},
   "outputs": [
    {
     "name": "stderr",
     "output_type": "stream",
     "text": [
      "2023/06/21 00:47:18 WARNING mlflow.utils.autologging_utils: You are using an unsupported version of xgboost. If you encounter errors during autologging, try upgrading / downgrading xgboost to a supported version, or try upgrading MLflow.\n",
      "2023/06/21 00:47:18 INFO mlflow.tracking.fluent: Autologging successfully enabled for xgboost.\n",
      "2023/06/21 00:47:19 INFO mlflow.tracking.fluent: Autologging successfully enabled for sklearn.\n",
      "2023/06/21 00:47:20 INFO mlflow.tracking.fluent: Autologging successfully enabled for statsmodels.\n"
     ]
    }
   ],
   "source": [
    "mlflow.autolog()"
   ]
  },
  {
   "cell_type": "markdown",
   "id": "ab2235d6",
   "metadata": {},
   "source": [
    "or by enabling the framework-specific autologger; ex with XGBoost:"
   ]
  },
  {
   "cell_type": "code",
   "execution_count": null,
   "id": "1815ab51",
   "metadata": {},
   "outputs": [
    {
     "name": "stderr",
     "output_type": "stream",
     "text": [
      "2023/06/21 00:47:20 INFO mlflow.utils.autologging_utils: Created MLflow autologging run with ID '84c726ee884342eab3fff8605afffbd7', which will track hyperparameters, performance metrics, model artifacts, and lineage information for the current xgboost workflow\n"
     ]
    }
   ],
   "source": [
    "params = {\n",
    "    \"learning_rate\" : 0.09726255724350065,\n",
    "    \"max_depth\": 51,\n",
    "    \"min_child_weight\": 19.788154446519542,\n",
    "    \"objective\": \"reg:linear\",\n",
    "    \"reg_alpha\": 0.0802169697770356,\n",
    "    \"reg_lambda\": 0.003109431432408728,\n",
    "    \"seed\": 42\n",
    "}\n",
    "\n",
    "# mlflow.xgboost.autolog()\n",
    "\n",
    "booster = xgb.train(\n",
    "params=params,\n",
    "dtrain=train,\n",
    "num_boost_round=10,\n",
    "evals=[(valid, 'validation')],\n",
    "early_stopping_rounds=50)"
   ]
  },
  {
   "cell_type": "markdown",
   "id": "7c579116",
   "metadata": {},
   "source": [
    "Both must be done before running the experiments.\n",
    "\n",
    "The autologger then not only stores the model parameters for ease of use, it also stores other files inside the model (can be specified) folder inside our experiment artifact folder, these files include:\n",
    "\n",
    "conda.yaml and requirements.txt: Files which define the current envrionment for use with either conda or pip respectively MLmodel an internal MLflow file for organization Other framework-specific files such as the model itself"
   ]
  },
  {
   "cell_type": "markdown",
   "id": "3a4b2d82",
   "metadata": {},
   "source": [
    "## Saving Models:\n"
   ]
  },
  {
   "cell_type": "code",
   "execution_count": 44,
   "id": "daccb9e2",
   "metadata": {},
   "outputs": [
    {
     "name": "stdout",
     "output_type": "stream",
     "text": [
      "[02:44:35] WARNING: ../src/objective/regression_obj.cu:213: reg:linear is now deprecated in favor of reg:squarederror.\n",
      "[0]\tvalidation-rmse:15.09843\n",
      "[1]\tvalidation-rmse:13.91454\n",
      "[2]\tvalidation-rmse:12.85768\n",
      "[3]\tvalidation-rmse:11.91633\n",
      "[4]\tvalidation-rmse:11.07898\n",
      "[5]\tvalidation-rmse:10.33584\n",
      "[6]\tvalidation-rmse:9.67806\n",
      "[7]\tvalidation-rmse:9.09688\n",
      "[8]\tvalidation-rmse:8.58475\n",
      "[9]\tvalidation-rmse:8.13432\n",
      "[10]\tvalidation-rmse:7.73941\n",
      "[11]\tvalidation-rmse:7.39356\n",
      "[12]\tvalidation-rmse:7.09121\n",
      "[13]\tvalidation-rmse:6.82782\n",
      "[14]\tvalidation-rmse:6.59851\n",
      "[15]\tvalidation-rmse:6.39880\n",
      "[16]\tvalidation-rmse:6.22547\n",
      "[17]\tvalidation-rmse:6.07457\n",
      "[18]\tvalidation-rmse:5.94358\n",
      "[19]\tvalidation-rmse:5.83003\n",
      "[20]\tvalidation-rmse:5.73120\n",
      "[21]\tvalidation-rmse:5.64508\n",
      "[22]\tvalidation-rmse:5.57005\n",
      "[23]\tvalidation-rmse:5.50462\n",
      "[24]\tvalidation-rmse:5.44759\n",
      "[25]\tvalidation-rmse:5.39785\n",
      "[26]\tvalidation-rmse:5.35398\n",
      "[27]\tvalidation-rmse:5.31569\n",
      "[28]\tvalidation-rmse:5.28197\n",
      "[29]\tvalidation-rmse:5.25234\n",
      "[30]\tvalidation-rmse:5.22588\n",
      "[31]\tvalidation-rmse:5.20260\n",
      "[32]\tvalidation-rmse:5.18194\n",
      "[33]\tvalidation-rmse:5.16294\n",
      "[34]\tvalidation-rmse:5.14668\n",
      "[35]\tvalidation-rmse:5.13154\n",
      "[36]\tvalidation-rmse:5.11836\n",
      "[37]\tvalidation-rmse:5.10631\n",
      "[38]\tvalidation-rmse:5.09558\n",
      "[39]\tvalidation-rmse:5.08587\n",
      "[40]\tvalidation-rmse:5.07706\n",
      "[41]\tvalidation-rmse:5.06926\n",
      "[42]\tvalidation-rmse:5.06208\n",
      "[43]\tvalidation-rmse:5.05552\n",
      "[44]\tvalidation-rmse:5.04963\n",
      "[45]\tvalidation-rmse:5.04404\n",
      "[46]\tvalidation-rmse:5.03892\n",
      "[47]\tvalidation-rmse:5.03445\n",
      "[48]\tvalidation-rmse:5.03035\n",
      "[49]\tvalidation-rmse:5.02678\n"
     ]
    }
   ],
   "source": [
    "with mlflow.start_run():\n",
    "    \n",
    "    best_params = {\n",
    "    \"learning_rate\" : 0.09726255724350065,\n",
    "    \"max_depth\": 51,\n",
    "    \"min_child_weight\": 19.788154446519542,\n",
    "    \"objective\": \"reg:linear\",\n",
    "    \"reg_alpha\": 0.0802169697770356,\n",
    "    \"reg_lambda\": 0.003109431432408728,\n",
    "    \"seed\": 42\n",
    "    }\n",
    "    \n",
    "    mlflow.log_params(best_params)\n",
    "\n",
    "    # mlflow.xgboost.autolog()\n",
    "\n",
    "    booster = xgb.train(\n",
    "    params=best_params,\n",
    "    dtrain=train,\n",
    "    num_boost_round=50,\n",
    "    evals=[(valid, 'validation')],\n",
    "    early_stopping_rounds=50)\n",
    "    \n",
    "    y_pred = booster.predict(valid)\n",
    "    rmse = mean_squared_error(y_val,y_pred, squared=False)\n",
    "    mlflow.log_metric(\"rmse\",rmse)\n",
    "    |\n",
    "    with open(\"models/preprocessor.b\",\"wb\") as f_out:\n",
    "        pickle.dump(dv, f_out)\n",
    "        \n",
    "    mlflow.log_artifact(\"models/preprocessor.b\", artifact_path=\"preprocessor\")\n",
    "    \n",
    "    mlflow.xgboost.log_model(booster, artifact_path=\"models_mlflow\")"
   ]
  },
  {
   "cell_type": "markdown",
   "id": "14c36ace",
   "metadata": {},
   "source": [
    "## Loading Models:\n"
   ]
  },
  {
   "cell_type": "code",
   "execution_count": 45,
   "id": "f81fe446",
   "metadata": {},
   "outputs": [
    {
     "name": "stderr",
     "output_type": "stream",
     "text": [
      "2023/06/21 02:57:32 WARNING mlflow.pyfunc: Detected one or more mismatches between the model's dependencies and the current Python environment:\n",
      " - mlflow (current: 2.4.1, required: mlflow==2.4)\n",
      "To fix the mismatches, call `mlflow.pyfunc.get_model_dependencies(model_uri)` to fetch the model's environment and install dependencies using the resulting environment file.\n"
     ]
    },
    {
     "name": "stdout",
     "output_type": "stream",
     "text": [
      "[02:57:32] WARNING: ../src/objective/regression_obj.cu:213: reg:linear is now deprecated in favor of reg:squarederror.\n"
     ]
    }
   ],
   "source": [
    "logged_model = 'runs:/2958350c12f843c8973ee4db46c753df/models_mlflow'\n",
    "\n",
    "# Load model as a PyFuncModel.\n",
    "loaded_model = mlflow.pyfunc.load_model(logged_model)"
   ]
  },
  {
   "cell_type": "code",
   "execution_count": 46,
   "id": "71960934",
   "metadata": {},
   "outputs": [
    {
     "data": {
      "text/plain": [
       "mlflow.pyfunc.loaded_model:\n",
       "  artifact_path: models_mlflow\n",
       "  flavor: mlflow.xgboost\n",
       "  run_id: 2958350c12f843c8973ee4db46c753df"
      ]
     },
     "execution_count": 46,
     "metadata": {},
     "output_type": "execute_result"
    }
   ],
   "source": [
    "loaded_model"
   ]
  },
  {
   "cell_type": "markdown",
   "id": "9d3c42ab",
   "metadata": {},
   "source": [
    "We can use the model to make predictions with multiple ways depending on what we need:\n",
    "\n",
    " - We may load the model as a Spark UDF (User Defined Function) for use with Spark Dataframes\n",
    " - We may load the model as a MLflow PyFuncModel structure, to then use to predict data in a Pandas DataFrame, NumPy Array or SciPy Sparse Array. The obtained interface is general for all models from all frameworks\n",
    " - We may load the model as is, i.e: load the XGBoost model as an XGBoost model and treat it as such\n",
    "\n",
    "The first two methods are explained briefly in the MLflow artifacts page for each run, for the latter we may use (XGBoost example):"
   ]
  },
  {
   "cell_type": "code",
   "execution_count": 48,
   "id": "e3cfaee2",
   "metadata": {},
   "outputs": [
    {
     "name": "stdout",
     "output_type": "stream",
     "text": [
      "[02:58:47] WARNING: ../src/objective/regression_obj.cu:213: reg:linear is now deprecated in favor of reg:squarederror.\n"
     ]
    },
    {
     "data": {
      "text/plain": [
       "<xgboost.core.Booster at 0x7f4d79600640>"
      ]
     },
     "execution_count": 48,
     "metadata": {},
     "output_type": "execute_result"
    }
   ],
   "source": [
    "xgboost_model = mlflow.xgboost.load_model(logged_model)\n",
    "xgboost_model"
   ]
  },
  {
   "cell_type": "markdown",
   "id": "b6eba1bf",
   "metadata": {},
   "source": [
    "the resultant xgboost_model is an XGBoost Booster object which behaves like any XGBoost model. We can predict as normal and even use XGBoost Booster functions such as get_fscore for feature importance."
   ]
  },
  {
   "cell_type": "code",
   "execution_count": 49,
   "id": "a93b748d",
   "metadata": {},
   "outputs": [],
   "source": [
    "y_pred = xgboost_model.predict(valid)"
   ]
  },
  {
   "cell_type": "code",
   "execution_count": 50,
   "id": "9b9de0c8",
   "metadata": {},
   "outputs": [
    {
     "data": {
      "text/plain": [
       "array([14.791502 , 20.216396 , 28.003994 , 26.085732 , 31.809734 ,\n",
       "       13.911249 , 24.460573 ,  5.2154083, 18.154009 , 16.186596 ],\n",
       "      dtype=float32)"
      ]
     },
     "execution_count": 50,
     "metadata": {},
     "output_type": "execute_result"
    }
   ],
   "source": [
    "y_pred[:10]"
   ]
  },
  {
   "cell_type": "markdown",
   "id": "994cef69",
   "metadata": {},
   "source": [
    "## Saving Artifacts with the Model:"
   ]
  },
  {
   "cell_type": "markdown",
   "id": "0ea302d4",
   "metadata": {},
   "source": [
    "Sometimes we may want to save some artifacts with the model, for example in our case we may want to save the DictVectorizer object with the model for inference (subsequently testing as well). In that case we save the artifact as:"
   ]
  },
  {
   "cell_type": "code",
   "execution_count": null,
   "id": "a9b5d0a0",
   "metadata": {},
   "outputs": [],
   "source": [
    "mlflow.log_artifact(\"vectorizer.pkl\", artifact_path=\"extra_artifacts\")"
   ]
  },
  {
   "cell_type": "markdown",
   "id": "d262c89f",
   "metadata": {},
   "source": [
    "Where vectorizer.pkl is the vectorizer stored in a Pickle file and extra_artifacts the folder within the artifacts of the model where the file is stored."
   ]
  },
  {
   "cell_type": "code",
   "execution_count": null,
   "id": "26fe2e01",
   "metadata": {},
   "outputs": [],
   "source": []
  }
 ],
 "metadata": {
  "kernelspec": {
   "display_name": "Python 3 (ipykernel)",
   "language": "python",
   "name": "python3"
  },
  "language_info": {
   "codemirror_mode": {
    "name": "ipython",
    "version": 3
   },
   "file_extension": ".py",
   "mimetype": "text/x-python",
   "name": "python",
   "nbconvert_exporter": "python",
   "pygments_lexer": "ipython3",
   "version": "3.9.12"
  }
 },
 "nbformat": 4,
 "nbformat_minor": 5
}

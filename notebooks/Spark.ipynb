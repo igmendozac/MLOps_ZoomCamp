{
 "cells": [
  {
   "cell_type": "code",
   "execution_count": 18,
   "id": "36a7c4f7",
   "metadata": {},
   "outputs": [],
   "source": [
    "# !pip install pyspark"
   ]
  },
  {
   "cell_type": "markdown",
   "id": "e711683b",
   "metadata": {},
   "source": [
    "Example 2-7. Initializing Spark in Python"
   ]
  },
  {
   "cell_type": "code",
   "execution_count": 4,
   "id": "5a2a231a",
   "metadata": {},
   "outputs": [],
   "source": [
    "from pyspark import SparkConf, SparkContext"
   ]
  },
  {
   "cell_type": "code",
   "execution_count": 13,
   "id": "ef9685aa",
   "metadata": {},
   "outputs": [],
   "source": [
    "conf = SparkConf().setMaster(\"local\").setAppName(\"My App\")\n",
    "sc = SparkContext(conf = conf)"
   ]
  },
  {
   "cell_type": "markdown",
   "id": "9833ee46",
   "metadata": {},
   "source": [
    "Example 3-1. Creating an RDD ofstrings with textFile() in Python"
   ]
  },
  {
   "cell_type": "markdown",
   "id": "0cb574eb",
   "metadata": {},
   "source": [
    "# ROO Basics"
   ]
  },
  {
   "cell_type": "code",
   "execution_count": 34,
   "id": "bd9bb06d",
   "metadata": {},
   "outputs": [],
   "source": [
    "lines = sc.textFile(\"README.md\")\n",
    "# lines.collect()"
   ]
  },
  {
   "cell_type": "markdown",
   "id": "70418192",
   "metadata": {},
   "source": [
    "Example 3-2. Calling the filter() transformation"
   ]
  },
  {
   "cell_type": "code",
   "execution_count": 35,
   "id": "8d36884f",
   "metadata": {},
   "outputs": [],
   "source": [
    "pythonlines = lines.filter(lambda line: \"Python\" in line)"
   ]
  },
  {
   "cell_type": "markdown",
   "id": "15779761",
   "metadata": {},
   "source": [
    "Example 3-3. Calling the first() action"
   ]
  },
  {
   "cell_type": "code",
   "execution_count": 36,
   "id": "e7f972ad",
   "metadata": {},
   "outputs": [
    {
     "data": {
      "text/plain": [
       "'high-level APIs in Scala, Java, Python, and R, and an optimized engine that'"
      ]
     },
     "execution_count": 36,
     "metadata": {},
     "output_type": "execute_result"
    }
   ],
   "source": [
    "pythonlines.first()"
   ]
  },
  {
   "cell_type": "markdown",
   "id": "a8c82c1e",
   "metadata": {},
   "source": [
    "Example 3-4. Persisting an RDD in memory"
   ]
  },
  {
   "cell_type": "code",
   "execution_count": 37,
   "id": "1d6537bd",
   "metadata": {},
   "outputs": [
    {
     "name": "stdout",
     "output_type": "stream",
     "text": [
      "CPU times: user 2 µs, sys: 1e+03 ns, total: 3 µs\n",
      "Wall time: 6.44 µs\n"
     ]
    },
    {
     "data": {
      "text/plain": [
       "4"
      ]
     },
     "execution_count": 37,
     "metadata": {},
     "output_type": "execute_result"
    }
   ],
   "source": [
    "%time\n",
    "pythonlines.persist()\n",
    "pythonlines.count()"
   ]
  },
  {
   "cell_type": "code",
   "execution_count": 38,
   "id": "26386077",
   "metadata": {},
   "outputs": [
    {
     "name": "stdout",
     "output_type": "stream",
     "text": [
      "CPU times: user 3 µs, sys: 1 µs, total: 4 µs\n",
      "Wall time: 6.2 µs\n"
     ]
    },
    {
     "data": {
      "text/plain": [
       "'high-level APIs in Scala, Java, Python, and R, and an optimized engine that'"
      ]
     },
     "execution_count": 38,
     "metadata": {},
     "output_type": "execute_result"
    }
   ],
   "source": [
    "%time\n",
    "pythonlines.first()"
   ]
  },
  {
   "cell_type": "markdown",
   "id": "69b01106",
   "metadata": {},
   "source": [
    "# Creating RDDs"
   ]
  },
  {
   "cell_type": "markdown",
   "id": "f0ac7997",
   "metadata": {},
   "source": [
    "Example 3-5. parallelize() method in Python"
   ]
  },
  {
   "cell_type": "code",
   "execution_count": 33,
   "id": "a0484dba",
   "metadata": {},
   "outputs": [],
   "source": [
    "lines = sc.parallelize([\"pandas\", \"i like pandas\"])"
   ]
  },
  {
   "cell_type": "markdown",
   "id": "8f011d98",
   "metadata": {},
   "source": [
    "# Transformations"
   ]
  },
  {
   "cell_type": "markdown",
   "id": "299d5b9a",
   "metadata": {},
   "source": [
    "Transformations are operations on RDDs that return a new RDD. As discussed in\n",
    "\"Lazy Evaluation\" on page 29, transformed RDDs are computed lazily, only when you\n",
    "use them in an action. Many transformations are element-wise; that is, they work on\n",
    "one element at a time; but this is not true for all transformations.\n",
    "As an example, suppose that we have a logfile, log.tx t, with a number of messages,\n",
    "and we want to select only the error messages. We can use the fi.lter () transforma\n",
    "tion seen before. This time, though, we 'll show a filter in all three of Spark's language\n",
    "APis (Examples 3-11 through 3-13)."
   ]
  },
  {
   "cell_type": "markdown",
   "id": "ca372466",
   "metadata": {},
   "source": [
    "Example 3-11. filter() transformation in Python"
   ]
  },
  {
   "cell_type": "code",
   "execution_count": 39,
   "id": "1dcf66ec",
   "metadata": {},
   "outputs": [],
   "source": [
    "inputRDD = sc.textFile(\"log.txt\")\n",
    "errorsRDD = inputRDD.filter(lambda x: \"error\" in x)"
   ]
  },
  {
   "cell_type": "markdown",
   "id": "99d7d31c",
   "metadata": {},
   "source": [
    "Example 3-14. unían() transformation in Python"
   ]
  },
  {
   "cell_type": "code",
   "execution_count": 49,
   "id": "484d2508",
   "metadata": {},
   "outputs": [],
   "source": [
    "errorsRDD = inputRDD.filter(lambda x: \"Error\" in x)\n",
    "warningsRDD = inputRDD.filter(lambda x: \"Oarning\" in x)\n",
    "badLinesRDD = errorsRDD.union(warningsRDD)"
   ]
  },
  {
   "cell_type": "markdown",
   "id": "27bebda6",
   "metadata": {},
   "source": [
    "A better way to accomplish the same result as in Example 3-14\n",
    "would be to simply fllter the \"i.nputRDD once, looking for either\n",
    "error or warning."
   ]
  },
  {
   "cell_type": "code",
   "execution_count": 52,
   "id": "a5a9f346",
   "metadata": {},
   "outputs": [
    {
     "data": {
      "text/plain": [
       "['Error de la base de datos en la operación 10',\n",
       " 'Error de la aplicación web de tipo 500 en la operación 14',\n",
       " 'Error de la base de datos en la operación 15',\n",
       " 'Error de la aplicación web de tipo 500 en la operación 17',\n",
       " 'Error de la aplicación web de tipo 400 en la operación 27',\n",
       " 'Error de la aplicación web de tipo 500 en la operación 28',\n",
       " 'Error de la base de datos en la operación 31',\n",
       " 'Error de la aplicación web de tipo 400 en la operación 35',\n",
       " 'Error de la base de datos en la operación 37',\n",
       " 'Error de la aplicación web de tipo 400 en la operación 39',\n",
       " 'Error de la aplicación web de tipo 500 en la operación 40',\n",
       " 'Error de la base de datos en la operación 41',\n",
       " 'Error de la base de datos en la operación 42',\n",
       " 'Error de la aplicación web de tipo 500 en la operación 43',\n",
       " 'Error de la base de datos en la operación 45',\n",
       " 'Error de la base de datos en la operación 46',\n",
       " 'Error de la base de datos en la operación 49',\n",
       " 'Error de la base de datos en la operación 50',\n",
       " 'Error de la base de datos en la operación 53',\n",
       " 'Error de la base de datos en la operación 56',\n",
       " 'Error de la aplicación web de tipo 400 en la operación 60',\n",
       " 'Error de la base de datos en la operación 62',\n",
       " 'Error de la aplicación web de tipo 400 en la operación 65',\n",
       " 'Error de la aplicación web de tipo 400 en la operación 67',\n",
       " 'Error de la base de datos en la operación 68',\n",
       " 'Error de la aplicación web de tipo 500 en la operación 70',\n",
       " 'Error de la aplicación web de tipo 500 en la operación 78',\n",
       " 'Error de la base de datos en la operación 83',\n",
       " 'Error de la base de datos en la operación 86',\n",
       " 'Error de la base de datos en la operación 91',\n",
       " 'Error de la base de datos en la operación 101',\n",
       " 'Error de la aplicación web de tipo 500 en la operación 102',\n",
       " 'Error de la base de datos en la operación 109',\n",
       " 'Error de la aplicación web de tipo 400 en la operación 115',\n",
       " 'Error de la aplicación web de tipo 400 en la operación 118',\n",
       " 'Error de la base de datos en la operación 126',\n",
       " 'Error de la aplicación web de tipo 500 en la operación 133',\n",
       " 'Error de la aplicación web de tipo 400 en la operación 140',\n",
       " 'Error de la base de datos en la operación 143',\n",
       " 'Error de la aplicación web de tipo 500 en la operación 159',\n",
       " 'Error de la aplicación web de tipo 400 en la operación 165',\n",
       " 'Error de la aplicación web de tipo 500 en la operación 166',\n",
       " 'Error de la base de datos en la operación 185',\n",
       " 'Error de la base de datos en la operación 188',\n",
       " 'Error de la base de datos en la operación 195',\n",
       " 'Error de la base de datos en la operación 210',\n",
       " 'Error de la base de datos en la operación 219',\n",
       " 'Error de la base de datos en la operación 222',\n",
       " 'Error de la aplicación web de tipo 500 en la operación 227',\n",
       " 'Error de la base de datos en la operación 228',\n",
       " 'Error de la aplicación web de tipo 400 en la operación 238',\n",
       " 'Error de la aplicación web de tipo 500 en la operación 239',\n",
       " 'Error de la base de datos en la operación 241',\n",
       " 'Error de la base de datos en la operación 243',\n",
       " 'Error de la base de datos en la operación 246',\n",
       " 'Error de la base de datos en la operación 247',\n",
       " 'Error de la base de datos en la operación 253',\n",
       " 'Error de la aplicación web de tipo 400 en la operación 261',\n",
       " 'Error de la aplicación web de tipo 500 en la operación 267',\n",
       " 'Error de la aplicación web de tipo 500 en la operación 268',\n",
       " 'Error de la aplicación web de tipo 400 en la operación 276',\n",
       " 'Error de la base de datos en la operación 280',\n",
       " 'Error de la aplicación web de tipo 400 en la operación 282',\n",
       " 'Error de la base de datos en la operación 287',\n",
       " 'Error de la base de datos en la operación 290',\n",
       " 'Error de la aplicación web de tipo 500 en la operación 292',\n",
       " 'Error de la aplicación web de tipo 500 en la operación 297',\n",
       " 'Error de la aplicación web de tipo 500 en la operación 301',\n",
       " 'Error de la aplicación web de tipo 500 en la operación 302',\n",
       " 'Error de la base de datos en la operación 307',\n",
       " 'Error de la aplicación web de tipo 400 en la operación 308',\n",
       " 'Error de la aplicación web de tipo 500 en la operación 313',\n",
       " 'Error de la base de datos en la operación 315',\n",
       " 'Error de la base de datos en la operación 322',\n",
       " 'Error de la aplicación web de tipo 400 en la operación 324',\n",
       " 'Error de la base de datos en la operación 338',\n",
       " 'Error de la base de datos en la operación 339',\n",
       " 'Error de la base de datos en la operación 340',\n",
       " 'Error de la base de datos en la operación 341',\n",
       " 'Error de la base de datos en la operación 345',\n",
       " 'Error de la base de datos en la operación 347',\n",
       " 'Error de la base de datos en la operación 349',\n",
       " 'Error de la base de datos en la operación 350',\n",
       " 'Error de la base de datos en la operación 354',\n",
       " 'Error de la base de datos en la operación 358',\n",
       " 'Error de la base de datos en la operación 360',\n",
       " 'Error de la base de datos en la operación 364',\n",
       " 'Error de la base de datos en la operación 368',\n",
       " 'Error de la aplicación web de tipo 500 en la operación 369',\n",
       " 'Error de la aplicación web de tipo 500 en la operación 374',\n",
       " 'Error de la base de datos en la operación 378',\n",
       " 'Error de la aplicación web de tipo 400 en la operación 380',\n",
       " 'Error de la aplicación web de tipo 400 en la operación 405',\n",
       " 'Error de la base de datos en la operación 406',\n",
       " 'Error de la base de datos en la operación 411',\n",
       " 'Error de la base de datos en la operación 422',\n",
       " 'Error de la base de datos en la operación 428',\n",
       " 'Error de la base de datos en la operación 429',\n",
       " 'Error de la aplicación web de tipo 500 en la operación 442',\n",
       " 'Error de la aplicación web de tipo 500 en la operación 445',\n",
       " 'Error de la aplicación web de tipo 500 en la operación 449',\n",
       " 'Error de la base de datos en la operación 452',\n",
       " 'Error de la base de datos en la operación 458',\n",
       " 'Error de la base de datos en la operación 465',\n",
       " 'Error de la base de datos en la operación 471',\n",
       " 'Error de la base de datos en la operación 474',\n",
       " 'Error de la base de datos en la operación 476',\n",
       " 'Error de la aplicación web de tipo 400 en la operación 484',\n",
       " 'Error de la base de datos en la operación 485',\n",
       " 'Error de la aplicación web de tipo 400 en la operación 488',\n",
       " 'Error de la base de datos en la operación 496',\n",
       " 'Error de la aplicación web de tipo 400 en la operación 504',\n",
       " 'Error de la base de datos en la operación 505',\n",
       " 'Error de la base de datos en la operación 506',\n",
       " 'Error de la aplicación web de tipo 500 en la operación 507',\n",
       " 'Error de la aplicación web de tipo 500 en la operación 511',\n",
       " 'Error de la aplicación web de tipo 500 en la operación 512',\n",
       " 'Error de la aplicación web de tipo 500 en la operación 513',\n",
       " 'Error de la aplicación web de tipo 500 en la operación 516',\n",
       " 'Error de la base de datos en la operación 523',\n",
       " 'Error de la aplicación web de tipo 500 en la operación 526',\n",
       " 'Error de la base de datos en la operación 527',\n",
       " 'Error de la base de datos en la operación 542',\n",
       " 'Error de la aplicación web de tipo 500 en la operación 554',\n",
       " 'Error de la aplicación web de tipo 400 en la operación 561',\n",
       " 'Error de la aplicación web de tipo 400 en la operación 565',\n",
       " 'Error de la base de datos en la operación 571',\n",
       " 'Error de la base de datos en la operación 578',\n",
       " 'Error de la base de datos en la operación 590',\n",
       " 'Error de la aplicación web de tipo 400 en la operación 593',\n",
       " 'Error de la aplicación web de tipo 400 en la operación 610',\n",
       " 'Error de la base de datos en la operación 613',\n",
       " 'Error de la aplicación web de tipo 500 en la operación 615',\n",
       " 'Error de la base de datos en la operación 624',\n",
       " 'Error de la base de datos en la operación 627',\n",
       " 'Error de la aplicación web de tipo 500 en la operación 629',\n",
       " 'Error de la base de datos en la operación 632',\n",
       " 'Error de la base de datos en la operación 639',\n",
       " 'Error de la aplicación web de tipo 400 en la operación 651',\n",
       " 'Error de la aplicación web de tipo 400 en la operación 656',\n",
       " 'Error de la base de datos en la operación 660',\n",
       " 'Error de la base de datos en la operación 662',\n",
       " 'Error de la base de datos en la operación 664',\n",
       " 'Error de la aplicación web de tipo 400 en la operación 666',\n",
       " 'Error de la base de datos en la operación 667',\n",
       " 'Error de la base de datos en la operación 678',\n",
       " 'Error de la base de datos en la operación 682',\n",
       " 'Error de la base de datos en la operación 684',\n",
       " 'Error de la base de datos en la operación 689',\n",
       " 'Error de la base de datos en la operación 703',\n",
       " 'Error de la base de datos en la operación 704',\n",
       " 'Error de la base de datos en la operación 709',\n",
       " 'Error de la base de datos en la operación 710',\n",
       " 'Error de la aplicación web de tipo 500 en la operación 717',\n",
       " 'Error de la aplicación web de tipo 500 en la operación 719',\n",
       " 'Error de la base de datos en la operación 722',\n",
       " 'Error de la base de datos en la operación 723',\n",
       " 'Error de la base de datos en la operación 734',\n",
       " 'Error de la aplicación web de tipo 500 en la operación 736',\n",
       " 'Error de la aplicación web de tipo 500 en la operación 742',\n",
       " 'Error de la base de datos en la operación 750',\n",
       " 'Error de la aplicación web de tipo 500 en la operación 751',\n",
       " 'Error de la base de datos en la operación 754',\n",
       " 'Error de la base de datos en la operación 760',\n",
       " 'Error de la base de datos en la operación 769',\n",
       " 'Error de la aplicación web de tipo 400 en la operación 771',\n",
       " 'Error de la aplicación web de tipo 500 en la operación 779',\n",
       " 'Error de la aplicación web de tipo 500 en la operación 782',\n",
       " 'Error de la base de datos en la operación 784',\n",
       " 'Error de la base de datos en la operación 790',\n",
       " 'Error de la base de datos en la operación 805',\n",
       " 'Error de la aplicación web de tipo 400 en la operación 806',\n",
       " 'Error de la aplicación web de tipo 400 en la operación 807',\n",
       " 'Error de la aplicación web de tipo 500 en la operación 810',\n",
       " 'Error de la base de datos en la operación 812',\n",
       " 'Error de la aplicación web de tipo 500 en la operación 813',\n",
       " 'Error de la aplicación web de tipo 500 en la operación 817',\n",
       " 'Error de la base de datos en la operación 820',\n",
       " 'Error de la base de datos en la operación 825',\n",
       " 'Error de la base de datos en la operación 827',\n",
       " 'Error de la base de datos en la operación 831',\n",
       " 'Error de la base de datos en la operación 832',\n",
       " 'Error de la base de datos en la operación 835',\n",
       " 'Error de la aplicación web de tipo 500 en la operación 839',\n",
       " 'Error de la base de datos en la operación 845',\n",
       " 'Error de la base de datos en la operación 863',\n",
       " 'Error de la base de datos en la operación 864',\n",
       " 'Error de la base de datos en la operación 865',\n",
       " 'Error de la base de datos en la operación 867',\n",
       " 'Error de la aplicación web de tipo 400 en la operación 879',\n",
       " 'Error de la base de datos en la operación 888',\n",
       " 'Error de la base de datos en la operación 896',\n",
       " 'Error de la base de datos en la operación 902',\n",
       " 'Error de la base de datos en la operación 903',\n",
       " 'Error de la aplicación web de tipo 400 en la operación 908',\n",
       " 'Error de la base de datos en la operación 909',\n",
       " 'Error de la base de datos en la operación 911',\n",
       " 'Error de la base de datos en la operación 912',\n",
       " 'Error de la base de datos en la operación 923',\n",
       " 'Error de la base de datos en la operación 926',\n",
       " 'Error de la base de datos en la operación 927',\n",
       " 'Error de la aplicación web de tipo 500 en la operación 928',\n",
       " 'Error de la aplicación web de tipo 400 en la operación 931',\n",
       " 'Error de la aplicación web de tipo 400 en la operación 933',\n",
       " 'Error de la aplicación web de tipo 400 en la operación 934',\n",
       " 'Error de la base de datos en la operación 935',\n",
       " 'Error de la base de datos en la operación 940',\n",
       " 'Error de la base de datos en la operación 942',\n",
       " 'Error de la base de datos en la operación 947',\n",
       " 'Error de la base de datos en la operación 949',\n",
       " 'Error de la base de datos en la operación 951',\n",
       " 'Error de la aplicación web de tipo 500 en la operación 955',\n",
       " 'Error de la aplicación web de tipo 400 en la operación 971',\n",
       " 'Error de la base de datos en la operación 972',\n",
       " 'Error de la aplicación web de tipo 500 en la operación 973',\n",
       " 'Error de la base de datos en la operación 983',\n",
       " 'Error de la base de datos en la operación 988',\n",
       " 'Error de la aplicación web de tipo 500 en la operación 990']"
      ]
     },
     "execution_count": 52,
     "metadata": {},
     "output_type": "execute_result"
    }
   ],
   "source": [
    "badLinesRDD.collect()"
   ]
  },
  {
   "cell_type": "markdown",
   "id": "cc74eafb",
   "metadata": {},
   "source": [
    "# Actions"
   ]
  },
  {
   "cell_type": "markdown",
   "id": "c13eb525",
   "metadata": {},
   "source": [
    "Example 3-15. Python error count using actions"
   ]
  },
  {
   "cell_type": "code",
   "execution_count": null,
   "id": "3002ce43",
   "metadata": {},
   "outputs": [],
   "source": [
    "print(input had \" + badLtnesRDD.count() + \" concerntng ltnes\"\n",
    "prtnt \"Here are 10 exaMples:\"\n",
    "for ltne tn badLtnesRDD.take(10):\n",
    "prtnt ltne"
   ]
  },
  {
   "cell_type": "code",
   "execution_count": 12,
   "id": "b0903b32",
   "metadata": {},
   "outputs": [],
   "source": [
    "se.stop()"
   ]
  },
  {
   "cell_type": "code",
   "execution_count": null,
   "id": "2a4c0422",
   "metadata": {},
   "outputs": [],
   "source": []
  }
 ],
 "metadata": {
  "kernelspec": {
   "display_name": "Python 3 (ipykernel)",
   "language": "python",
   "name": "python3"
  },
  "language_info": {
   "codemirror_mode": {
    "name": "ipython",
    "version": 3
   },
   "file_extension": ".py",
   "mimetype": "text/x-python",
   "name": "python",
   "nbconvert_exporter": "python",
   "pygments_lexer": "ipython3",
   "version": "3.9.12"
  }
 },
 "nbformat": 4,
 "nbformat_minor": 5
}
